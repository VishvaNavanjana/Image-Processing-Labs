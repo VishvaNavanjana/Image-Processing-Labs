{
 "cells": [
  {
   "cell_type": "markdown",
   "id": "dcab9b6d",
   "metadata": {},
   "source": [
    "# Section 1: Getting familiar with basic OpenCV functions."
   ]
  },
  {
   "cell_type": "markdown",
   "id": "4a101da0",
   "metadata": {},
   "source": [
    "### 1. Basics of Image read write and visualizations\n"
   ]
  },
  {
   "cell_type": "code",
   "execution_count": 1,
   "id": "4e88c349",
   "metadata": {},
   "outputs": [],
   "source": [
    "import cv2\n",
    "import numpy as np"
   ]
  },
  {
   "cell_type": "code",
   "execution_count": 2,
   "id": "bdf8af30",
   "metadata": {},
   "outputs": [],
   "source": [
    "img = cv2.imread('image.jpg') "
   ]
  },
  {
   "cell_type": "code",
   "execution_count": 3,
   "id": "880952c5",
   "metadata": {},
   "outputs": [
    {
     "ename": "AttributeError",
     "evalue": "'NoneType' object has no attribute 'shape'",
     "output_type": "error",
     "traceback": [
      "\u001b[1;31m---------------------------------------------------------------------------\u001b[0m",
      "\u001b[1;31mAttributeError\u001b[0m                            Traceback (most recent call last)",
      "\u001b[1;32m<ipython-input-3-d3b3014c7449>\u001b[0m in \u001b[0;36m<module>\u001b[1;34m\u001b[0m\n\u001b[1;32m----> 1\u001b[1;33m \u001b[0mprint\u001b[0m\u001b[1;33m(\u001b[0m\u001b[0mimg\u001b[0m\u001b[1;33m.\u001b[0m\u001b[0mshape\u001b[0m\u001b[1;33m)\u001b[0m\u001b[1;33m\u001b[0m\u001b[1;33m\u001b[0m\u001b[0m\n\u001b[0m\u001b[0;32m      2\u001b[0m \u001b[0mprint\u001b[0m\u001b[1;33m(\u001b[0m\u001b[0mimg\u001b[0m\u001b[1;33m.\u001b[0m\u001b[0msize\u001b[0m\u001b[1;33m)\u001b[0m\u001b[1;33m\u001b[0m\u001b[1;33m\u001b[0m\u001b[0m\n",
      "\u001b[1;31mAttributeError\u001b[0m: 'NoneType' object has no attribute 'shape'"
     ]
    }
   ],
   "source": [
    "print(img.shape)\n",
    "print(img.size)"
   ]
  },
  {
   "cell_type": "code",
   "execution_count": 4,
   "id": "c0a05521",
   "metadata": {},
   "outputs": [
    {
     "ename": "error",
     "evalue": "OpenCV(4.5.5) D:\\a\\opencv-python\\opencv-python\\opencv\\modules\\imgcodecs\\src\\loadsave.cpp:801: error: (-215:Assertion failed) !_img.empty() in function 'cv::imwrite'\n",
     "output_type": "error",
     "traceback": [
      "\u001b[1;31m---------------------------------------------------------------------------\u001b[0m",
      "\u001b[1;31merror\u001b[0m                                     Traceback (most recent call last)",
      "\u001b[1;32m<ipython-input-4-dd18d814d159>\u001b[0m in \u001b[0;36m<module>\u001b[1;34m\u001b[0m\n\u001b[1;32m----> 1\u001b[1;33m \u001b[0mcv2\u001b[0m\u001b[1;33m.\u001b[0m\u001b[0mimwrite\u001b[0m\u001b[1;33m(\u001b[0m\u001b[1;34m'saveBack.png'\u001b[0m\u001b[1;33m,\u001b[0m\u001b[0mimg\u001b[0m\u001b[1;33m)\u001b[0m\u001b[1;33m\u001b[0m\u001b[1;33m\u001b[0m\u001b[0m\n\u001b[0m",
      "\u001b[1;31merror\u001b[0m: OpenCV(4.5.5) D:\\a\\opencv-python\\opencv-python\\opencv\\modules\\imgcodecs\\src\\loadsave.cpp:801: error: (-215:Assertion failed) !_img.empty() in function 'cv::imwrite'\n"
     ]
    }
   ],
   "source": [
    "cv2.imwrite('saveBack.png',img)"
   ]
  },
  {
   "cell_type": "code",
   "execution_count": 5,
   "id": "3e870531",
   "metadata": {},
   "outputs": [],
   "source": [
    "img = cv2.imread('image.jpg',0)\n",
    "cv2.imshow('image',img)\n",
    "cv2.waitKey(0)     # Wait indefinitely for a keystroke\n",
    "cv2.destroyAllWindows() # Destroy all created windows upon a keystroke"
   ]
  },
  {
   "cell_type": "code",
   "execution_count": 6,
   "id": "a3c84859",
   "metadata": {},
   "outputs": [
    {
     "name": "stdout",
     "output_type": "stream",
     "text": [
      "(700, 700)\n",
      "490000\n"
     ]
    }
   ],
   "source": [
    "print(img.shape) # Number of rows and columns and number of channels (if image is color)\n",
    "print(img.size)  # Number of pixels"
   ]
  },
  {
   "cell_type": "markdown",
   "id": "cc19bb83",
   "metadata": {},
   "source": [
    "### 2.Image type conversions viewing image data type"
   ]
  },
  {
   "cell_type": "code",
   "execution_count": 7,
   "id": "fa21ae0b",
   "metadata": {},
   "outputs": [
    {
     "name": "stdout",
     "output_type": "stream",
     "text": [
      "uint8\n"
     ]
    }
   ],
   "source": [
    "print(img.dtype)"
   ]
  },
  {
   "cell_type": "markdown",
   "id": "b77eb2d1",
   "metadata": {},
   "source": [
    "##### Converting from RGB to Grayscale"
   ]
  },
  {
   "cell_type": "code",
   "execution_count": 9,
   "id": "ee033f2b",
   "metadata": {},
   "outputs": [],
   "source": [
    "img = cv2.imread('image.jpg') \n",
    "img=cv2.cvtColor(img,cv2.COLOR_RGB2GRAY)"
   ]
  },
  {
   "cell_type": "markdown",
   "id": "7dafb1d9",
   "metadata": {},
   "source": [
    "### 3. Basic Image Processing commands"
   ]
  },
  {
   "cell_type": "code",
   "execution_count": 11,
   "id": "0d5dce72",
   "metadata": {},
   "outputs": [],
   "source": [
    "resized_image = cv2.resize(img,(100,50)) #Reduce image to 100 cols and 50 rows\n",
    "cv2.imshow('image',resized_image)\n",
    "cv2.waitKey(0)     # Wait indefinitely for a keystroke\n",
    "cv2.destroyAllWindows()"
   ]
  },
  {
   "cell_type": "code",
   "execution_count": 12,
   "id": "b0ab7114",
   "metadata": {},
   "outputs": [],
   "source": [
    "img = cv2.imread('image.jpg') \n",
    "resized_image = cv2.resize(img,(0,0), fx=0.5,fy=0.5) #Reduce both axes by half\n",
    "cv2.imshow('image',resized_image) \n",
    "cv2.waitKey(0)     # Wait indefinitely for a keystroke\n",
    "cv2.destroyAllWindows()"
   ]
  },
  {
   "cell_type": "code",
   "execution_count": 13,
   "id": "cb2c654c",
   "metadata": {},
   "outputs": [],
   "source": [
    "img = cv2.imread('image.jpg') \n",
    "resized_image = cv2.resize(img,(0,0), fx=0.5,fy=0.5 , interpolation=cv2.INTER_NEAREST) #Reduce both axes by half\n",
    "cv2.imshow('image',resized_image) \n",
    "cv2.waitKey(0)     # Wait indefinitely for a keystroke\n",
    "cv2.destroyAllWindows()"
   ]
  },
  {
   "cell_type": "markdown",
   "id": "7b4a77f5",
   "metadata": {},
   "source": [
    "##### Rotation"
   ]
  },
  {
   "cell_type": "code",
   "execution_count": 15,
   "id": "7e00c6c8",
   "metadata": {},
   "outputs": [
    {
     "name": "stdout",
     "output_type": "stream",
     "text": [
      "(350.0, 350.0)\n"
     ]
    }
   ],
   "source": [
    "(h,w) = img.shape[:2]\n",
    "center = (w/2,h/2)\n",
    "print(center)"
   ]
  },
  {
   "cell_type": "code",
   "execution_count": 16,
   "id": "818efc8e",
   "metadata": {},
   "outputs": [],
   "source": [
    "# Computing the matrix (M) that can be used for rotating the image\n",
    "# center - Point around which, the image is rotated\n",
    "# 180 - Angle by which image is rotated\n",
    "# 1.0 - Scaling factor (No scaling in this case)\n",
    "M = cv2.getRotationMatrix2D(center,180,1.0)"
   ]
  },
  {
   "cell_type": "code",
   "execution_count": 20,
   "id": "454c201c",
   "metadata": {},
   "outputs": [],
   "source": [
    "# Perform the actual rotation\n",
    "rotated = cv2.warpAffine(img, M, (w, h))\n"
   ]
  },
  {
   "cell_type": "markdown",
   "id": "ab9a0905",
   "metadata": {},
   "source": [
    "##### Cropping"
   ]
  },
  {
   "cell_type": "code",
   "execution_count": 24,
   "id": "20514c19",
   "metadata": {},
   "outputs": [],
   "source": [
    "img = cv2.imread('image.jpg') \n",
    "cropped = img[50:500,50:400]\n",
    "cv2.imshow('image',cropped) \n",
    "cv2.waitKey(0)     # Wait indefinitely for a keystroke\n",
    "cv2.destroyAllWindows()"
   ]
  },
  {
   "cell_type": "markdown",
   "id": "d03dd02a",
   "metadata": {},
   "source": [
    "##### Complementing\n"
   ]
  },
  {
   "cell_type": "code",
   "execution_count": 5,
   "id": "1576e3c4",
   "metadata": {},
   "outputs": [],
   "source": [
    "img = cv2.imread('image.jpg') \n",
    "inverted = cv2.bitwise_not(img)\n",
    "cv2.imshow('image',inverted) \n",
    "cv2.waitKey(0)     # Wait indefinitely for a keystroke\n",
    "cv2.destroyAllWindows()"
   ]
  },
  {
   "cell_type": "markdown",
   "id": "ab5cb78a",
   "metadata": {},
   "source": [
    "##### Flipping an image\n"
   ]
  },
  {
   "cell_type": "code",
   "execution_count": 13,
   "id": "71b21359",
   "metadata": {},
   "outputs": [],
   "source": [
    "# flipMode - If 0, flipping around x-axis\n",
    "# If positive, flipping around y-axis\n",
    "# If negative, flipping around both axes\n",
    "img = cv2.imread('image.jpg') \n",
    "flipped = cv2.flip(img,0)\n",
    "cv2.imshow('image',flipped) \n",
    "cv2.waitKey(0)     # Wait indefinitely for a keystroke\n",
    "cv2.destroyAllWindows()"
   ]
  },
  {
   "cell_type": "markdown",
   "id": "50623052",
   "metadata": {},
   "source": [
    "# Section 2 : CSV to Image conversion"
   ]
  },
  {
   "cell_type": "code",
   "execution_count": 14,
   "id": "db7ca1c7",
   "metadata": {},
   "outputs": [],
   "source": [
    "import pandas as pd\n",
    "import matplotlib.pyplot as plt\n",
    "import numpy as np"
   ]
  },
  {
   "cell_type": "code",
   "execution_count": 16,
   "id": "1af0d186",
   "metadata": {},
   "outputs": [],
   "source": [
    "img_data = pd.read_csv('Digits_Lab_01.csv')"
   ]
  },
  {
   "cell_type": "code",
   "execution_count": 18,
   "id": "1f28563b",
   "metadata": {
    "scrolled": true
   },
   "outputs": [
    {
     "data": {
      "text/html": [
       "<div>\n",
       "<style scoped>\n",
       "    .dataframe tbody tr th:only-of-type {\n",
       "        vertical-align: middle;\n",
       "    }\n",
       "\n",
       "    .dataframe tbody tr th {\n",
       "        vertical-align: top;\n",
       "    }\n",
       "\n",
       "    .dataframe thead th {\n",
       "        text-align: right;\n",
       "    }\n",
       "</style>\n",
       "<table border=\"1\" class=\"dataframe\">\n",
       "  <thead>\n",
       "    <tr style=\"text-align: right;\">\n",
       "      <th></th>\n",
       "      <th>pixel0</th>\n",
       "      <th>pixel1</th>\n",
       "      <th>pixel2</th>\n",
       "      <th>pixel3</th>\n",
       "      <th>pixel4</th>\n",
       "      <th>pixel5</th>\n",
       "      <th>pixel6</th>\n",
       "      <th>pixel7</th>\n",
       "      <th>pixel8</th>\n",
       "      <th>pixel9</th>\n",
       "      <th>...</th>\n",
       "      <th>pixel774</th>\n",
       "      <th>pixel775</th>\n",
       "      <th>pixel776</th>\n",
       "      <th>pixel777</th>\n",
       "      <th>pixel778</th>\n",
       "      <th>pixel779</th>\n",
       "      <th>pixel780</th>\n",
       "      <th>pixel781</th>\n",
       "      <th>pixel782</th>\n",
       "      <th>pixel783</th>\n",
       "    </tr>\n",
       "  </thead>\n",
       "  <tbody>\n",
       "    <tr>\n",
       "      <th>0</th>\n",
       "      <td>0</td>\n",
       "      <td>0</td>\n",
       "      <td>0</td>\n",
       "      <td>0</td>\n",
       "      <td>0</td>\n",
       "      <td>0</td>\n",
       "      <td>0</td>\n",
       "      <td>0</td>\n",
       "      <td>0</td>\n",
       "      <td>0</td>\n",
       "      <td>...</td>\n",
       "      <td>0</td>\n",
       "      <td>0</td>\n",
       "      <td>0</td>\n",
       "      <td>0</td>\n",
       "      <td>0</td>\n",
       "      <td>0</td>\n",
       "      <td>0</td>\n",
       "      <td>0</td>\n",
       "      <td>0</td>\n",
       "      <td>0</td>\n",
       "    </tr>\n",
       "    <tr>\n",
       "      <th>1</th>\n",
       "      <td>0</td>\n",
       "      <td>0</td>\n",
       "      <td>0</td>\n",
       "      <td>0</td>\n",
       "      <td>0</td>\n",
       "      <td>0</td>\n",
       "      <td>0</td>\n",
       "      <td>0</td>\n",
       "      <td>0</td>\n",
       "      <td>0</td>\n",
       "      <td>...</td>\n",
       "      <td>0</td>\n",
       "      <td>0</td>\n",
       "      <td>0</td>\n",
       "      <td>0</td>\n",
       "      <td>0</td>\n",
       "      <td>0</td>\n",
       "      <td>0</td>\n",
       "      <td>0</td>\n",
       "      <td>0</td>\n",
       "      <td>0</td>\n",
       "    </tr>\n",
       "    <tr>\n",
       "      <th>2</th>\n",
       "      <td>0</td>\n",
       "      <td>0</td>\n",
       "      <td>0</td>\n",
       "      <td>0</td>\n",
       "      <td>0</td>\n",
       "      <td>0</td>\n",
       "      <td>0</td>\n",
       "      <td>0</td>\n",
       "      <td>0</td>\n",
       "      <td>0</td>\n",
       "      <td>...</td>\n",
       "      <td>0</td>\n",
       "      <td>0</td>\n",
       "      <td>0</td>\n",
       "      <td>0</td>\n",
       "      <td>0</td>\n",
       "      <td>0</td>\n",
       "      <td>0</td>\n",
       "      <td>0</td>\n",
       "      <td>0</td>\n",
       "      <td>0</td>\n",
       "    </tr>\n",
       "    <tr>\n",
       "      <th>3</th>\n",
       "      <td>0</td>\n",
       "      <td>0</td>\n",
       "      <td>0</td>\n",
       "      <td>0</td>\n",
       "      <td>0</td>\n",
       "      <td>0</td>\n",
       "      <td>0</td>\n",
       "      <td>0</td>\n",
       "      <td>0</td>\n",
       "      <td>0</td>\n",
       "      <td>...</td>\n",
       "      <td>0</td>\n",
       "      <td>0</td>\n",
       "      <td>0</td>\n",
       "      <td>0</td>\n",
       "      <td>0</td>\n",
       "      <td>0</td>\n",
       "      <td>0</td>\n",
       "      <td>0</td>\n",
       "      <td>0</td>\n",
       "      <td>0</td>\n",
       "    </tr>\n",
       "    <tr>\n",
       "      <th>4</th>\n",
       "      <td>0</td>\n",
       "      <td>0</td>\n",
       "      <td>0</td>\n",
       "      <td>0</td>\n",
       "      <td>0</td>\n",
       "      <td>0</td>\n",
       "      <td>0</td>\n",
       "      <td>0</td>\n",
       "      <td>0</td>\n",
       "      <td>0</td>\n",
       "      <td>...</td>\n",
       "      <td>0</td>\n",
       "      <td>0</td>\n",
       "      <td>0</td>\n",
       "      <td>0</td>\n",
       "      <td>0</td>\n",
       "      <td>0</td>\n",
       "      <td>0</td>\n",
       "      <td>0</td>\n",
       "      <td>0</td>\n",
       "      <td>0</td>\n",
       "    </tr>\n",
       "  </tbody>\n",
       "</table>\n",
       "<p>5 rows × 784 columns</p>\n",
       "</div>"
      ],
      "text/plain": [
       "   pixel0  pixel1  pixel2  pixel3  pixel4  pixel5  pixel6  pixel7  pixel8  \\\n",
       "0       0       0       0       0       0       0       0       0       0   \n",
       "1       0       0       0       0       0       0       0       0       0   \n",
       "2       0       0       0       0       0       0       0       0       0   \n",
       "3       0       0       0       0       0       0       0       0       0   \n",
       "4       0       0       0       0       0       0       0       0       0   \n",
       "\n",
       "   pixel9  ...  pixel774  pixel775  pixel776  pixel777  pixel778  pixel779  \\\n",
       "0       0  ...         0         0         0         0         0         0   \n",
       "1       0  ...         0         0         0         0         0         0   \n",
       "2       0  ...         0         0         0         0         0         0   \n",
       "3       0  ...         0         0         0         0         0         0   \n",
       "4       0  ...         0         0         0         0         0         0   \n",
       "\n",
       "   pixel780  pixel781  pixel782  pixel783  \n",
       "0         0         0         0         0  \n",
       "1         0         0         0         0  \n",
       "2         0         0         0         0  \n",
       "3         0         0         0         0  \n",
       "4         0         0         0         0  \n",
       "\n",
       "[5 rows x 784 columns]"
      ]
     },
     "execution_count": 18,
     "metadata": {},
     "output_type": "execute_result"
    }
   ],
   "source": [
    "# Visualize the data as a table \n",
    "img_data.head()"
   ]
  },
  {
   "cell_type": "code",
   "execution_count": 19,
   "id": "6615e611",
   "metadata": {},
   "outputs": [],
   "source": [
    "# Reshape the rows of data to images (image size - 28x28x1)\n",
    "Reshaped_images = img_data.to_numpy().reshape(-1,28,28,1)"
   ]
  },
  {
   "cell_type": "code",
   "execution_count": 21,
   "id": "0372d980",
   "metadata": {},
   "outputs": [
    {
     "data": {
      "image/png": "[encoded data removed]",
      "text/plain": [
       "<Figure size 432x288 with 1 Axes>"
      ]
     },
     "metadata": {
      "needs_background": "light"
     },
     "output_type": "display_data"
    }
   ],
   "source": [
    "# Visualize the images \n",
    "sample_img = np.array(Reshaped_images[12]).reshape((28,28))\n",
    "plt.imshow(sample_img)\n",
    "plt.show()"
   ]
  },
  {
   "cell_type": "markdown",
   "id": "56b2aec5",
   "metadata": {},
   "source": [
    "# Section 3 : Geometric Transformations "
   ]
  },
  {
   "cell_type": "code",
   "execution_count": 23,
   "id": "e10795aa",
   "metadata": {},
   "outputs": [],
   "source": [
    "img = cv2.imread('eb9931c3f39215a193826992d013a17a.jpg')\n",
    "rows,cols,ch = img.shape"
   ]
  },
  {
   "cell_type": "code",
   "execution_count": 24,
   "id": "990be008",
   "metadata": {},
   "outputs": [],
   "source": [
    "# Define the Transformation \n",
    "pts1 = np.float32([[50,50],[200,50],[50,200]])\n",
    "pts2 = np.float32([[10,100],[200,50],[100,250]])\n",
    "M = cv2.getAffineTransform(pts1,pts2)"
   ]
  },
  {
   "cell_type": "code",
   "execution_count": 30,
   "id": "b94d30a7",
   "metadata": {},
   "outputs": [
    {
     "data": {
      "image/png": "[encoded data removed]",
      "text/plain": [
       "<Figure size 432x288 with 2 Axes>"
      ]
     },
     "metadata": {
      "needs_background": "light"
     },
     "output_type": "display_data"
    }
   ],
   "source": [
    "# Do the Transformation \n",
    "dst = cv2.warpAffine(img,M,(cols,rows))\n",
    "\n",
    "# Visualize the original and the transformed images\n",
    "plt.subplot(121),plt.imshow(img),plt.title('input')\n",
    "plt.subplot(122),plt.imshow(dst),plt.title('Output')\n",
    "plt.show()"
   ]
  },
  {
   "cell_type": "markdown",
   "id": "901c75f1",
   "metadata": {},
   "source": [
    "# Section 4 : Lab tasks"
   ]
  },
  {
   "cell_type": "markdown",
   "id": "0c4a6298",
   "metadata": {},
   "source": [
    "## 1. Implement the following functions on your own using PythonOpenCV."
   ]
  },
  {
   "cell_type": "markdown",
   "id": "227d0437",
   "metadata": {},
   "source": [
    "### a) imcomplement(I) - Inverts I"
   ]
  },
  {
   "cell_type": "markdown",
   "id": "274586cd",
   "metadata": {},
   "source": [
    "#### We can invert a pixel using this calculation\n",
    "####   Inverted pixel = 255 - (pixel value) \n",
    "#### Since a image is an unsigned int numpy array object (0-255)\n",
    "#### We can do inverted = 1 - I\n",
    "\n"
   ]
  },
  {
   "cell_type": "code",
   "execution_count": 5,
   "id": "dae08edf",
   "metadata": {},
   "outputs": [],
   "source": [
    "def imcomplement(I):\n",
    "    inverted = 1 - I\n",
    "    cv2.imshow('inverted',inverted) \n",
    "    cv2.waitKey(0)     # Wait indefinitely for a keystroke\n",
    "    cv2.destroyAllWindows()"
   ]
  },
  {
   "cell_type": "code",
   "execution_count": 7,
   "id": "0ed21e2d",
   "metadata": {},
   "outputs": [],
   "source": [
    "img = cv2.imread('eb9931c3f39215a193826992d013a17a.jpg',0)\n",
    "imcomplement(img)\n"
   ]
  },
  {
   "cell_type": "markdown",
   "id": "d0871eea",
   "metadata": {},
   "source": [
    "### b) flipud(I) - Flips image along x-axis"
   ]
  },
  {
   "cell_type": "markdown",
   "id": "35470226",
   "metadata": {},
   "source": [
    "### To flip an image along x-axis we have to reverse the order of the rows arrangement of the image (It means first row to the last row vice versa)"
   ]
  },
  {
   "cell_type": "code",
   "execution_count": 8,
   "id": "5fc9c602",
   "metadata": {},
   "outputs": [],
   "source": [
    "def flipud(I):\n",
    "    flipped = I[::-1]\n",
    "    cv2.imshow('flipped along x axis',flipped) \n",
    "    cv2.waitKey(0)     # Wait indefinitely for a keystroke\n",
    "    cv2.destroyAllWindows()"
   ]
  },
  {
   "cell_type": "code",
   "execution_count": 15,
   "id": "9551a0e2",
   "metadata": {},
   "outputs": [],
   "source": [
    "img = cv2.imread('test_image.jpg',0)\n",
    "flipud(img)"
   ]
  },
  {
   "cell_type": "markdown",
   "id": "2aa1a691",
   "metadata": {},
   "source": [
    "### c) fliplr(I) - Flips image along y-axis"
   ]
  },
  {
   "cell_type": "markdown",
   "id": "0496bd25",
   "metadata": {},
   "source": [
    "### To flip an image along y-axis we have to reverse each row. We can iterate thorugh each row using a loop and revese each row "
   ]
  },
  {
   "cell_type": "code",
   "execution_count": 10,
   "id": "e4646ac7",
   "metadata": {},
   "outputs": [],
   "source": [
    "def fliplr(I):\n",
    "    #Matrix to store flipped image\n",
    "    flipped = I\n",
    "    \n",
    "    #Iterate thorugh each row\n",
    "    for row in range(len(I)):\n",
    "        flipped[row] = I[row][::-1]\n",
    "    \n",
    "    cv2.imshow('flipped along y axis',flipped) \n",
    "    cv2.waitKey(0)     # Wait indefinitely for a keystroke\n",
    "    cv2.destroyAllWindows()"
   ]
  },
  {
   "cell_type": "code",
   "execution_count": 16,
   "id": "36be55e4",
   "metadata": {},
   "outputs": [],
   "source": [
    "img = cv2.imread('test_image.jpg',0)\n",
    "fliplr(img)"
   ]
  },
  {
   "cell_type": "markdown",
   "id": "e4cca150",
   "metadata": {},
   "source": [
    "### d) imresize(I,[x y]) with nearest-neighbour interpolation"
   ]
  },
  {
   "cell_type": "markdown",
   "id": "e6821dad",
   "metadata": {},
   "source": [
    "### To resize the image using nearest-neighbour interpolation we have to duplicate pixel values according to the given factor"
   ]
  },
  {
   "cell_type": "code",
   "execution_count": 12,
   "id": "15bae8c6",
   "metadata": {},
   "outputs": [],
   "source": [
    "def imresize(I,factor):\n",
    "    interpolated = []\n",
    "    \n",
    "    #Iterate thorugh each row\n",
    "    for row in I:\n",
    "        \n",
    "        row_interpolated = []\n",
    "        \n",
    "        for pixel in row:\n",
    "            for i in range(factor[0]):\n",
    "                row_interpolated.append(pixel)\n",
    "                \n",
    "        for j in range(factor[1]):\n",
    "            interpolated.append(row_interpolated)\n",
    "            \n",
    "    interpolated = np.array(interpolated)        \n",
    "    \n",
    "    cv2.imshow('resized image',interpolated) \n",
    "    cv2.waitKey(0)     # Wait indefinitely for a keystroke\n",
    "    cv2.destroyAllWindows()"
   ]
  },
  {
   "cell_type": "code",
   "execution_count": 13,
   "id": "de15592b",
   "metadata": {},
   "outputs": [],
   "source": [
    "img = cv2.imread('part_d.JPG',0)\n",
    "imresize(img,[2,2])"
   ]
  },
  {
   "cell_type": "markdown",
   "id": "25e2b97c",
   "metadata": {},
   "source": [
    "## 2. Implement the 4 geometric transformation functions using OpenCV in additionto the given example. "
   ]
  },
  {
   "cell_type": "markdown",
   "id": "dd435cee",
   "metadata": {},
   "source": [
    "### Binary Image"
   ]
  },
  {
   "cell_type": "markdown",
   "id": "4c57aff7",
   "metadata": {},
   "source": [
    "### In binary image there are only two colors(0 and 255).In this function all the values below 127 will become 0 and all other values become 255"
   ]
  },
  {
   "cell_type": "code",
   "execution_count": 134,
   "id": "9dbe2fa4",
   "metadata": {},
   "outputs": [],
   "source": [
    "def binary(I):\n",
    "    grayImage = cv2.cvtColor(I, cv2.COLOR_BGR2GRAY)\n",
    "    \n",
    "    thresh, binaryImage = cv2.threshold(grayImage,127,255,cv2.THRESH_BINARY)\n",
    "    \n",
    "    cv2.imshow('binary image',binaryImage) \n",
    "    cv2.waitKey(0)     # Wait indefinitely for a keystroke\n",
    "    cv2.destroyAllWindows()"
   ]
  },
  {
   "cell_type": "code",
   "execution_count": 138,
   "id": "7dc4c6a3",
   "metadata": {},
   "outputs": [],
   "source": [
    "img = cv2.imread('test_image.jpg')\n",
    "binary(img)"
   ]
  },
  {
   "cell_type": "markdown",
   "id": "324e1f4e",
   "metadata": {},
   "source": [
    "### Translations"
   ]
  },
  {
   "cell_type": "markdown",
   "id": "2902b4e9",
   "metadata": {},
   "source": [
    "### Translation refers to the rectilinear shift of an object i.e. an image from one location to another. We can create the translation matrix using shift values along x axis and y axis.In this function the image will shift along x axis by quater of the orginal width and shift along y axis by quater of the orginal height.Then we use cv2.wrapAffine function to implement the translation"
   ]
  },
  {
   "cell_type": "code",
   "execution_count": 141,
   "id": "7d500129",
   "metadata": {},
   "outputs": [],
   "source": [
    "def translation(I):\n",
    "    h,w = I.shape[:2]\n",
    "    quater_height , quater_width = h/4,w/4\n",
    "    \n",
    "    translation_matrix = np.float32([[1,0,quater_width] , [0,1,quater_height]])\n",
    "    \n",
    "    translatedImage = cv2.warpAffine(I,translation_matrix,(w,h))\n",
    "    \n",
    "    cv2.imshow('translated image',translatedImage) \n",
    "    cv2.waitKey(0)     # Wait indefinitely for a keystroke\n",
    "    cv2.destroyAllWindows()\n",
    "    "
   ]
  },
  {
   "cell_type": "code",
   "execution_count": 144,
   "id": "fec02871",
   "metadata": {},
   "outputs": [],
   "source": [
    "img = cv2.imread('test_image.jpg')\n",
    "translation(img)"
   ]
  },
  {
   "cell_type": "markdown",
   "id": "e3df27f1",
   "metadata": {},
   "source": [
    "### Rotation"
   ]
  },
  {
   "cell_type": "markdown",
   "id": "23216158",
   "metadata": {},
   "source": [
    "### We can do the image rotate using cv2.rotate function.In this function image will rotate 90 degrees clockwise"
   ]
  },
  {
   "cell_type": "code",
   "execution_count": 151,
   "id": "a48885eb",
   "metadata": {},
   "outputs": [],
   "source": [
    "def rotation(I):\n",
    "    rotated = cv2.rotate(I,cv2.ROTATE_90_CLOCKWISE)\n",
    "    \n",
    "    cv2.imshow('rotated image',rotated) \n",
    "    cv2.waitKey(0)     # Wait indefinitely for a keystroke\n",
    "    cv2.destroyAllWindows()"
   ]
  },
  {
   "cell_type": "code",
   "execution_count": 152,
   "id": "2536a0da",
   "metadata": {},
   "outputs": [],
   "source": [
    "img = cv2.imread('test_image.jpg')\n",
    "rotation(img)"
   ]
  },
  {
   "cell_type": "markdown",
   "id": "337367ab",
   "metadata": {},
   "source": [
    "### Cropping"
   ]
  },
  {
   "cell_type": "markdown",
   "id": "bba95ed8",
   "metadata": {},
   "source": [
    "### We can crop a image using python array slicing . In this function we have to pass the required row range and the column range to crop an image."
   ]
  },
  {
   "cell_type": "code",
   "execution_count": 155,
   "id": "dfd2cabf",
   "metadata": {},
   "outputs": [],
   "source": [
    "def crop(I, row_range , col_range):\n",
    "    cropped = I[row_range[0]:row_range[1] , col_range[0]:col_range[1]]\n",
    "    cv2.imwrite('cropped.png',cropped)\n",
    "    cv2.imshow('cropped image',cropped) \n",
    "    cv2.waitKey(0)     # Wait indefinitely for a keystroke\n",
    "    cv2.destroyAllWindows()"
   ]
  },
  {
   "cell_type": "code",
   "execution_count": 156,
   "id": "aa78b37b",
   "metadata": {},
   "outputs": [],
   "source": [
    "img = cv2.imread('test_image.jpg')\n",
    "crop(img,[100,400],[0,300])"
   ]
  },
  {
   "cell_type": "code",
   "execution_count": null,
   "id": "e54bd706",
   "metadata": {},
   "outputs": [],
   "source": []
  }
 ],
 "metadata": {
  "kernelspec": {
   "display_name": "Python 3",
   "language": "python",
   "name": "python3"
  },
  "language_info": {
   "codemirror_mode": {
    "name": "ipython",
    "version": 3
   },
   "file_extension": ".py",
   "mimetype": "text/x-python",
   "name": "python",
   "nbconvert_exporter": "python",
   "pygments_lexer": "ipython3",
   "version": "3.9.5"
  }
 },
 "nbformat": 4,
 "nbformat_minor": 5
}
